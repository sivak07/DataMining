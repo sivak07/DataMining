{
 "cells": [
  {
   "cell_type": "code",
   "execution_count": 1,
   "id": "f0def2a9",
   "metadata": {
    "collapsed": true
   },
   "outputs": [
    {
     "name": "stdout",
     "output_type": "stream",
     "text": [
      "Requirement already satisfied: selenium in c:\\users\\siva kumar\\anaconda3\\lib\\site-packages (4.7.2)\n",
      "Requirement already satisfied: trio-websocket~=0.9 in c:\\users\\siva kumar\\anaconda3\\lib\\site-packages (from selenium) (0.9.2)\n",
      "Requirement already satisfied: trio~=0.17 in c:\\users\\siva kumar\\anaconda3\\lib\\site-packages (from selenium) (0.22.0)\n",
      "Requirement already satisfied: urllib3[socks]~=1.26 in c:\\users\\siva kumar\\anaconda3\\lib\\site-packages (from selenium) (1.26.4)\n",
      "Requirement already satisfied: certifi>=2021.10.8 in c:\\users\\siva kumar\\anaconda3\\lib\\site-packages (from selenium) (2022.12.7)\n",
      "Requirement already satisfied: idna in c:\\users\\siva kumar\\anaconda3\\lib\\site-packages (from trio~=0.17->selenium) (2.10)\n",
      "Requirement already satisfied: outcome in c:\\users\\siva kumar\\anaconda3\\lib\\site-packages (from trio~=0.17->selenium) (1.2.0)\n",
      "Requirement already satisfied: cffi>=1.14 in c:\\users\\siva kumar\\anaconda3\\lib\\site-packages (from trio~=0.17->selenium) (1.14.5)\n",
      "Requirement already satisfied: attrs>=19.2.0 in c:\\users\\siva kumar\\anaconda3\\lib\\site-packages (from trio~=0.17->selenium) (20.3.0)\n",
      "Requirement already satisfied: sortedcontainers in c:\\users\\siva kumar\\anaconda3\\lib\\site-packages (from trio~=0.17->selenium) (2.3.0)\n",
      "Requirement already satisfied: sniffio in c:\\users\\siva kumar\\anaconda3\\lib\\site-packages (from trio~=0.17->selenium) (1.2.0)\n",
      "Requirement already satisfied: exceptiongroup>=1.0.0rc9 in c:\\users\\siva kumar\\anaconda3\\lib\\site-packages (from trio~=0.17->selenium) (1.1.0)\n",
      "Requirement already satisfied: async-generator>=1.9 in c:\\users\\siva kumar\\anaconda3\\lib\\site-packages (from trio~=0.17->selenium) (1.10)\n",
      "Requirement already satisfied: pycparser in c:\\users\\siva kumar\\anaconda3\\lib\\site-packages (from cffi>=1.14->trio~=0.17->selenium) (2.20)\n",
      "Requirement already satisfied: wsproto>=0.14 in c:\\users\\siva kumar\\anaconda3\\lib\\site-packages (from trio-websocket~=0.9->selenium) (1.2.0)\n",
      "Requirement already satisfied: PySocks!=1.5.7,<2.0,>=1.5.6 in c:\\users\\siva kumar\\anaconda3\\lib\\site-packages (from urllib3[socks]~=1.26->selenium) (1.7.1)\n",
      "Requirement already satisfied: h11<1,>=0.9.0 in c:\\users\\siva kumar\\anaconda3\\lib\\site-packages (from wsproto>=0.14->trio-websocket~=0.9->selenium) (0.14.0)\n"
     ]
    }
   ],
   "source": [
    "!pip install selenium"
   ]
  },
  {
   "cell_type": "code",
   "execution_count": 152,
   "id": "8b90a68b",
   "metadata": {},
   "outputs": [],
   "source": [
    "from selenium import webdriver\n",
    "from selenium.webdriver.common.by import By\n",
    "from time import sleep\n",
    "import pandas as pd\n",
    "import numpy as np"
   ]
  },
  {
   "cell_type": "code",
   "execution_count": 33,
   "id": "65bbf657",
   "metadata": {},
   "outputs": [],
   "source": [
    "URL='https://main.sci.gov.in/judgments'\n",
    "DateFrom='01-01-2023'\n",
    "DateTo='01-03-2023'"
   ]
  },
  {
   "cell_type": "code",
   "execution_count": 34,
   "id": "7c1e1ed0",
   "metadata": {},
   "outputs": [],
   "source": [
    "driver=webdriver.Firefox()"
   ]
  },
  {
   "cell_type": "code",
   "execution_count": 35,
   "id": "52d7c93f",
   "metadata": {},
   "outputs": [],
   "source": [
    "driver.get(URL)"
   ]
  },
  {
   "cell_type": "code",
   "execution_count": 36,
   "id": "c1a4a0ba",
   "metadata": {},
   "outputs": [],
   "source": [
    "#Clicking the Date filter button\n",
    "driver.find_element(By.XPATH,'/html/body/div[2]/div[2]/div/div/div[1]/div/div/div/div/div/div/div/div/div/div/ul[2]/li[3]/a').click()"
   ]
  },
  {
   "cell_type": "code",
   "execution_count": 37,
   "id": "de25a85d",
   "metadata": {},
   "outputs": [],
   "source": [
    "#Filling the Captcha\n",
    "CaptchaValue=driver.find_element(By.XPATH,'/html/body/div[2]/div[2]/div/div/div[1]/div/div/div/div/div/div/div/div/div/div/div/table/tbody/tr/td[1]/div/p/font').text"
   ]
  },
  {
   "cell_type": "code",
   "execution_count": 44,
   "id": "5e7dba38",
   "metadata": {},
   "outputs": [],
   "source": [
    "CaptchaBox=driver.find_element(By.XPATH,'//*[@id=\"ansCaptcha\"]')"
   ]
  },
  {
   "cell_type": "code",
   "execution_count": 45,
   "id": "97f7cf6a",
   "metadata": {},
   "outputs": [],
   "source": [
    "CaptchaBox.clear()"
   ]
  },
  {
   "cell_type": "code",
   "execution_count": 46,
   "id": "431f54f5",
   "metadata": {},
   "outputs": [],
   "source": [
    "CaptchaBox.send_keys(CaptchaValue)"
   ]
  },
  {
   "cell_type": "code",
   "execution_count": 47,
   "id": "eb960c21",
   "metadata": {},
   "outputs": [],
   "source": [
    "#Filtering the Respective date\n",
    "DateFrom_=driver.find_element(By.XPATH,'//*[@id=\"JBJfrom_date\"]')"
   ]
  },
  {
   "cell_type": "code",
   "execution_count": 48,
   "id": "85b3c35f",
   "metadata": {},
   "outputs": [],
   "source": [
    "DateFrom_.clear()"
   ]
  },
  {
   "cell_type": "code",
   "execution_count": 49,
   "id": "bf79a3a1",
   "metadata": {},
   "outputs": [],
   "source": [
    "DateFrom_.send_keys(DateFrom)"
   ]
  },
  {
   "cell_type": "code",
   "execution_count": 52,
   "id": "dd9178c6",
   "metadata": {},
   "outputs": [],
   "source": [
    "DateTo_=driver.find_element(By.XPATH,'//*[@id=\"JBJto_date\"]')"
   ]
  },
  {
   "cell_type": "code",
   "execution_count": 53,
   "id": "88dd9743",
   "metadata": {},
   "outputs": [],
   "source": [
    "DateTo_.clear()"
   ]
  },
  {
   "cell_type": "code",
   "execution_count": 55,
   "id": "aef54da6",
   "metadata": {},
   "outputs": [],
   "source": [
    "DateTo_.send_keys(DateTo)"
   ]
  },
  {
   "cell_type": "code",
   "execution_count": 95,
   "id": "ff91daaa",
   "metadata": {},
   "outputs": [
    {
     "ename": "NoSuchElementException",
     "evalue": "Message: Unable to locate element: /html/body/div[2]/div[2]/div/div/div[1]/div/div/div/div/div/div/div/div/div/div/div/div[3]/div/div/table/tbody/tr[5000]/td[2]\nStacktrace:\nRemoteError@chrome://remote/content/shared/RemoteError.sys.mjs:8:8\nWebDriverError@chrome://remote/content/shared/webdriver/Errors.sys.mjs:187:5\nNoSuchElementError@chrome://remote/content/shared/webdriver/Errors.sys.mjs:505:5\nelement.find/</<@chrome://remote/content/marionette/element.sys.mjs:135:16\n",
     "output_type": "error",
     "traceback": [
      "\u001b[1;31m---------------------------------------------------------------------------\u001b[0m",
      "\u001b[1;31mNoSuchElementException\u001b[0m                    Traceback (most recent call last)",
      "\u001b[1;32m<ipython-input-95-b81d98f1217c>\u001b[0m in \u001b[0;36m<module>\u001b[1;34m\u001b[0m\n\u001b[1;32m----> 1\u001b[1;33m \u001b[0mdriver\u001b[0m\u001b[1;33m.\u001b[0m\u001b[0mfind_element\u001b[0m\u001b[1;33m(\u001b[0m\u001b[0mBy\u001b[0m\u001b[1;33m.\u001b[0m\u001b[0mXPATH\u001b[0m\u001b[1;33m,\u001b[0m\u001b[1;34m'/html/body/div[2]/div[2]/div/div/div[1]/div/div/div/div/div/div/div/div/div/div/div/div[3]/div/div/table/tbody/tr[5000]/td[2]'\u001b[0m\u001b[1;33m)\u001b[0m\u001b[1;33m.\u001b[0m\u001b[0mtext\u001b[0m\u001b[1;33m\u001b[0m\u001b[1;33m\u001b[0m\u001b[0m\n\u001b[0m",
      "\u001b[1;32m~\\anaconda3\\lib\\site-packages\\selenium\\webdriver\\remote\\webdriver.py\u001b[0m in \u001b[0;36mfind_element\u001b[1;34m(self, by, value)\u001b[0m\n\u001b[0;32m    859\u001b[0m             \u001b[0mvalue\u001b[0m \u001b[1;33m=\u001b[0m \u001b[1;34m'[name=\"%s\"]'\u001b[0m \u001b[1;33m%\u001b[0m \u001b[0mvalue\u001b[0m\u001b[1;33m\u001b[0m\u001b[1;33m\u001b[0m\u001b[0m\n\u001b[0;32m    860\u001b[0m \u001b[1;33m\u001b[0m\u001b[0m\n\u001b[1;32m--> 861\u001b[1;33m         \u001b[1;32mreturn\u001b[0m \u001b[0mself\u001b[0m\u001b[1;33m.\u001b[0m\u001b[0mexecute\u001b[0m\u001b[1;33m(\u001b[0m\u001b[0mCommand\u001b[0m\u001b[1;33m.\u001b[0m\u001b[0mFIND_ELEMENT\u001b[0m\u001b[1;33m,\u001b[0m \u001b[1;33m{\u001b[0m\u001b[1;34m\"using\"\u001b[0m\u001b[1;33m:\u001b[0m \u001b[0mby\u001b[0m\u001b[1;33m,\u001b[0m \u001b[1;34m\"value\"\u001b[0m\u001b[1;33m:\u001b[0m \u001b[0mvalue\u001b[0m\u001b[1;33m}\u001b[0m\u001b[1;33m)\u001b[0m\u001b[1;33m[\u001b[0m\u001b[1;34m\"value\"\u001b[0m\u001b[1;33m]\u001b[0m\u001b[1;33m\u001b[0m\u001b[1;33m\u001b[0m\u001b[0m\n\u001b[0m\u001b[0;32m    862\u001b[0m \u001b[1;33m\u001b[0m\u001b[0m\n\u001b[0;32m    863\u001b[0m     \u001b[1;32mdef\u001b[0m \u001b[0mfind_elements\u001b[0m\u001b[1;33m(\u001b[0m\u001b[0mself\u001b[0m\u001b[1;33m,\u001b[0m \u001b[0mby\u001b[0m\u001b[1;33m=\u001b[0m\u001b[0mBy\u001b[0m\u001b[1;33m.\u001b[0m\u001b[0mID\u001b[0m\u001b[1;33m,\u001b[0m \u001b[0mvalue\u001b[0m\u001b[1;33m:\u001b[0m \u001b[0mOptional\u001b[0m\u001b[1;33m[\u001b[0m\u001b[0mstr\u001b[0m\u001b[1;33m]\u001b[0m \u001b[1;33m=\u001b[0m \u001b[1;32mNone\u001b[0m\u001b[1;33m)\u001b[0m \u001b[1;33m->\u001b[0m \u001b[0mList\u001b[0m\u001b[1;33m[\u001b[0m\u001b[0mWebElement\u001b[0m\u001b[1;33m]\u001b[0m\u001b[1;33m:\u001b[0m\u001b[1;33m\u001b[0m\u001b[1;33m\u001b[0m\u001b[0m\n",
      "\u001b[1;32m~\\anaconda3\\lib\\site-packages\\selenium\\webdriver\\remote\\webdriver.py\u001b[0m in \u001b[0;36mexecute\u001b[1;34m(self, driver_command, params)\u001b[0m\n\u001b[0;32m    442\u001b[0m         \u001b[0mresponse\u001b[0m \u001b[1;33m=\u001b[0m \u001b[0mself\u001b[0m\u001b[1;33m.\u001b[0m\u001b[0mcommand_executor\u001b[0m\u001b[1;33m.\u001b[0m\u001b[0mexecute\u001b[0m\u001b[1;33m(\u001b[0m\u001b[0mdriver_command\u001b[0m\u001b[1;33m,\u001b[0m \u001b[0mparams\u001b[0m\u001b[1;33m)\u001b[0m\u001b[1;33m\u001b[0m\u001b[1;33m\u001b[0m\u001b[0m\n\u001b[0;32m    443\u001b[0m         \u001b[1;32mif\u001b[0m \u001b[0mresponse\u001b[0m\u001b[1;33m:\u001b[0m\u001b[1;33m\u001b[0m\u001b[1;33m\u001b[0m\u001b[0m\n\u001b[1;32m--> 444\u001b[1;33m             \u001b[0mself\u001b[0m\u001b[1;33m.\u001b[0m\u001b[0merror_handler\u001b[0m\u001b[1;33m.\u001b[0m\u001b[0mcheck_response\u001b[0m\u001b[1;33m(\u001b[0m\u001b[0mresponse\u001b[0m\u001b[1;33m)\u001b[0m\u001b[1;33m\u001b[0m\u001b[1;33m\u001b[0m\u001b[0m\n\u001b[0m\u001b[0;32m    445\u001b[0m             \u001b[0mresponse\u001b[0m\u001b[1;33m[\u001b[0m\u001b[1;34m\"value\"\u001b[0m\u001b[1;33m]\u001b[0m \u001b[1;33m=\u001b[0m \u001b[0mself\u001b[0m\u001b[1;33m.\u001b[0m\u001b[0m_unwrap_value\u001b[0m\u001b[1;33m(\u001b[0m\u001b[0mresponse\u001b[0m\u001b[1;33m.\u001b[0m\u001b[0mget\u001b[0m\u001b[1;33m(\u001b[0m\u001b[1;34m\"value\"\u001b[0m\u001b[1;33m,\u001b[0m \u001b[1;32mNone\u001b[0m\u001b[1;33m)\u001b[0m\u001b[1;33m)\u001b[0m\u001b[1;33m\u001b[0m\u001b[1;33m\u001b[0m\u001b[0m\n\u001b[0;32m    446\u001b[0m             \u001b[1;32mreturn\u001b[0m \u001b[0mresponse\u001b[0m\u001b[1;33m\u001b[0m\u001b[1;33m\u001b[0m\u001b[0m\n",
      "\u001b[1;32m~\\anaconda3\\lib\\site-packages\\selenium\\webdriver\\remote\\errorhandler.py\u001b[0m in \u001b[0;36mcheck_response\u001b[1;34m(self, response)\u001b[0m\n\u001b[0;32m    247\u001b[0m                 \u001b[0malert_text\u001b[0m \u001b[1;33m=\u001b[0m \u001b[0mvalue\u001b[0m\u001b[1;33m[\u001b[0m\u001b[1;34m\"alert\"\u001b[0m\u001b[1;33m]\u001b[0m\u001b[1;33m.\u001b[0m\u001b[0mget\u001b[0m\u001b[1;33m(\u001b[0m\u001b[1;34m\"text\"\u001b[0m\u001b[1;33m)\u001b[0m\u001b[1;33m\u001b[0m\u001b[1;33m\u001b[0m\u001b[0m\n\u001b[0;32m    248\u001b[0m             \u001b[1;32mraise\u001b[0m \u001b[0mexception_class\u001b[0m\u001b[1;33m(\u001b[0m\u001b[0mmessage\u001b[0m\u001b[1;33m,\u001b[0m \u001b[0mscreen\u001b[0m\u001b[1;33m,\u001b[0m \u001b[0mstacktrace\u001b[0m\u001b[1;33m,\u001b[0m \u001b[0malert_text\u001b[0m\u001b[1;33m)\u001b[0m  \u001b[1;31m# type: ignore[call-arg]  # mypy is not smart enough here\u001b[0m\u001b[1;33m\u001b[0m\u001b[1;33m\u001b[0m\u001b[0m\n\u001b[1;32m--> 249\u001b[1;33m         \u001b[1;32mraise\u001b[0m \u001b[0mexception_class\u001b[0m\u001b[1;33m(\u001b[0m\u001b[0mmessage\u001b[0m\u001b[1;33m,\u001b[0m \u001b[0mscreen\u001b[0m\u001b[1;33m,\u001b[0m \u001b[0mstacktrace\u001b[0m\u001b[1;33m)\u001b[0m\u001b[1;33m\u001b[0m\u001b[1;33m\u001b[0m\u001b[0m\n\u001b[0m",
      "\u001b[1;31mNoSuchElementException\u001b[0m: Message: Unable to locate element: /html/body/div[2]/div[2]/div/div/div[1]/div/div/div/div/div/div/div/div/div/div/div/div[3]/div/div/table/tbody/tr[5000]/td[2]\nStacktrace:\nRemoteError@chrome://remote/content/shared/RemoteError.sys.mjs:8:8\nWebDriverError@chrome://remote/content/shared/webdriver/Errors.sys.mjs:187:5\nNoSuchElementError@chrome://remote/content/shared/webdriver/Errors.sys.mjs:505:5\nelement.find/</<@chrome://remote/content/marionette/element.sys.mjs:135:16\n"
     ]
    }
   ],
   "source": [
    "driver.find_element(By.XPATH,'//*[@id=\"v_getJBJ\"]').click()"
   ]
  },
  {
   "cell_type": "code",
   "execution_count": 57,
   "id": "6255254f",
   "metadata": {},
   "outputs": [],
   "source": [
    "sleep(5)"
   ]
  },
  {
   "cell_type": "code",
   "execution_count": 106,
   "id": "c245da6e",
   "metadata": {},
   "outputs": [],
   "source": [
    "#Extracting the data from the website\n",
    "i=0\n",
    "diaryNo=[]\n",
    "caseNo=[]\n",
    "PetitionerName=[]\n",
    "RespondentName=[]\n",
    "PetitionersAdvocate=[]\n",
    "RespondentsAdvocate=[]\n",
    "Bench=[]\n",
    "JudgmentBy=[]\n",
    "while True:\n",
    "    try:\n",
    "        diaryNo.append(driver.find_element(By.XPATH,f'/html/body/div[2]/div[2]/div/div/div[1]/div/div/div/div/div/div/div/div/div/div/div/div[3]/div/div/table/tbody/tr[{1+i}]/td[3]').text)\n",
    "        caseNo.append(driver.find_element(By.XPATH,f'/html/body/div[2]/div[2]/div/div/div[1]/div/div/div/div/div/div/div/div/div/div/div/div[3]/div/div/table/tbody/tr[{2+i}]/td[2]').text)\n",
    "        PetitionerName.append(driver.find_element(By.XPATH,f'/html/body/div[2]/div[2]/div/div/div[1]/div/div/div/div/div/div/div/div/div/div/div/div[3]/div/div/table/tbody/tr[{3+i}]/td[2]').text)\n",
    "        RespondentName.append(driver.find_element(By.XPATH,f'/html/body/div[2]/div[2]/div/div/div[1]/div/div/div/div/div/div/div/div/div/div/div/div[3]/div/div/table/tbody/tr[{4+i}]/td[2]').text)\n",
    "        PetitionersAdvocate.append(driver.find_element(By.XPATH,f'/html/body/div[2]/div[2]/div/div/div[1]/div/div/div/div/div/div/div/div/div/div/div/div[3]/div/div/table/tbody/tr[{5+i}]/td[2]').text)\n",
    "        RespondentsAdvocate.append(driver.find_element(By.XPATH,f'/html/body/div[2]/div[2]/div/div/div[1]/div/div/div/div/div/div/div/div/div/div/div/div[3]/div/div/table/tbody/tr[{6+i}]/td[2]').text)\n",
    "        Bench.append(driver.find_element(By.XPATH,f'/html/body/div[2]/div[2]/div/div/div[1]/div/div/div/div/div/div/div/div/div/div/div/div[3]/div/div/table/tbody/tr[{7+i}]/td[2]').text)\n",
    "        JudgmentBy.append(driver.find_element(By.XPATH,f'/html/body/div[2]/div[2]/div/div/div[1]/div/div/div/div/div/div/div/div/div/div/div/div[3]/div/div/table/tbody/tr[{8+i}]/td[2]').text)\n",
    "        \n",
    "        i+=9\n",
    "    except:\n",
    "        break"
   ]
  },
  {
   "cell_type": "code",
   "execution_count": 146,
   "id": "6305f91e",
   "metadata": {},
   "outputs": [],
   "source": [
    "column=['dairy_no','case_no','petitioner_name','respondent_name','petitioner_advocate','respondent_advocate','bench_name','judgment_by']"
   ]
  },
  {
   "cell_type": "code",
   "execution_count": 147,
   "id": "d0d647ca",
   "metadata": {},
   "outputs": [],
   "source": [
    "#Creating a Data Frame with the data\n",
    "DF=pd.DataFrame([diaryNo,caseNo,PetitionerName,RespondentName,PetitionersAdvocate,RespondentsAdvocate,Bench,JudgmentBy],index=column)"
   ]
  },
  {
   "cell_type": "code",
   "execution_count": 148,
   "id": "8fb7e0f3",
   "metadata": {},
   "outputs": [],
   "source": [
    "DF=DF.transpose()"
   ]
  },
  {
   "cell_type": "code",
   "execution_count": 142,
   "id": "93b87f93",
   "metadata": {},
   "outputs": [],
   "source": [
    "#extracting the date and link of the judgment\n",
    "i=0\n",
    "Date=[]\n",
    "Link=[]\n",
    "while True:\n",
    "    try:\n",
    "        Data=driver.find_element(By.XPATH,f'/html/body/div[2]/div[2]/div/div/div[1]/div/div/div/div/div/div/div/div/div/div/div/div[3]/div/div/table/tbody/tr[{i+2}]/td[3]/a[2]')\n",
    "        Date.append(Data.text.split(' ')[0])\n",
    "        Link.append(Data.get_attribute('href'))\n",
    "        i+=9\n",
    "    \n",
    "    except:\n",
    "        break\n",
    "        "
   ]
  },
  {
   "cell_type": "code",
   "execution_count": 149,
   "id": "f073cba3",
   "metadata": {},
   "outputs": [],
   "source": [
    "DF['judgment_link']=Link"
   ]
  },
  {
   "cell_type": "code",
   "execution_count": 150,
   "id": "93e12d4c",
   "metadata": {},
   "outputs": [],
   "source": [
    "DF['judgment_date']=Date"
   ]
  },
  {
   "cell_type": "code",
   "execution_count": 158,
   "id": "5254093b",
   "metadata": {},
   "outputs": [],
   "source": [
    "DF=DF.replace(r'^\\s*$', np.nan, regex=True)"
   ]
  },
  {
   "cell_type": "code",
   "execution_count": 163,
   "id": "b123e6a8",
   "metadata": {},
   "outputs": [],
   "source": [
    "DF.to_csv('Judgments.csv')"
   ]
  },
  {
   "cell_type": "code",
   "execution_count": null,
   "id": "6591e34e",
   "metadata": {},
   "outputs": [],
   "source": []
  }
 ],
 "metadata": {
  "kernelspec": {
   "display_name": "MLAgent",
   "language": "python",
   "name": "mlagent"
  },
  "language_info": {
   "codemirror_mode": {
    "name": "ipython",
    "version": 3
   },
   "file_extension": ".py",
   "mimetype": "text/x-python",
   "name": "python",
   "nbconvert_exporter": "python",
   "pygments_lexer": "ipython3",
   "version": "3.8.8"
  }
 },
 "nbformat": 4,
 "nbformat_minor": 5
}
